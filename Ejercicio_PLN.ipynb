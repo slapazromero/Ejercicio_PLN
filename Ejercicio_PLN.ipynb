{
  "nbformat": 4,
  "nbformat_minor": 0,
  "metadata": {
    "colab": {
      "provenance": [],
      "authorship_tag": "ABX9TyNvYbM/OmBhxfbYlL7cU3PV",
      "include_colab_link": true
    },
    "kernelspec": {
      "name": "python3",
      "display_name": "Python 3"
    },
    "language_info": {
      "name": "python"
    }
  },
  "cells": [
    {
      "cell_type": "markdown",
      "metadata": {
        "id": "view-in-github",
        "colab_type": "text"
      },
      "source": [
        "<a href=\"https://colab.research.google.com/github/slapazromero/Ejercicio_PLN/blob/main/Ejercicio_PLN.ipynb\" target=\"_parent\"><img src=\"https://colab.research.google.com/assets/colab-badge.svg\" alt=\"Open In Colab\"/></a>"
      ]
    },
    {
      "cell_type": "markdown",
      "source": [
        "# Leer el contenido de un fichero (ver LecturaFicheros.py )"
      ],
      "metadata": {
        "id": "AP4vM5Uq1Yd-"
      }
    },
    {
      "cell_type": "markdown",
      "source": [
        "## Lectura de ficheros de texto plano locales"
      ],
      "metadata": {
        "id": "Rjdd4J_W2-_B"
      }
    },
    {
      "cell_type": "code",
      "execution_count": 3,
      "metadata": {
        "id": "_4Gfzxl76ksO",
        "colab": {
          "base_uri": "https://localhost:8080/"
        },
        "outputId": "95d15b95-9bc8-4ad4-c7b4-0738805f610a"
      },
      "outputs": [
        {
          "output_type": "stream",
          "name": "stdout",
          "text": [
            "['Titulo\\n\\nSon 3 las muertes conocidas en el día de hoy\\n\\nNoticia\\n\\nHacer balance de una pandemia es algo que ni los expertos se atreven todavía a \\nhacer cuando los registros diarios siguen arrojando fallecidos por un virus que seguirá \\nmucho tiempo entre nosotros aunque provoque menos daños. España atraviesa en estas semanas \\nel final de la fase epidémica. \\n\\nResumen\\n\\nSe ha confirmado el mejor registro de hospitalizados de la serie histórica: nunca antes \\nhabíamos tenido menos de 2.100 personas ingresadas por la infección desde que se registra la capacidad asistencial.\\n\\n\\n', 'Titulo\\n\\nLas noticias no son buenas en la Palma. \\n\\nNoticia\\n\\nLos acontecimientos que se han dado no han sido los esperados y desafortunadamente.\\nSe han generado nuevas corrientes que no podrán ser abordadas. Desde el fin de semana\\nse espera que no haya más objetivos.\\n\\nResumen\\n\\nLos palmeros se encuentran en un estado lamentables. Seguiremos informando.\\n\\n\\n']\n"
          ]
        }
      ],
      "source": [
        "import os\n",
        "path = '/content/prueba'\n",
        "ficheros = os.listdir(path)\n",
        "\n",
        "documentos = []\n",
        "\n",
        "for nombrefichero in ficheros:    \n",
        "        if os.path.isfile(os.path.join(path, nombrefichero)):\n",
        "            fich = open(os.path.join(path, nombrefichero), \"r\")\n",
        "            text = fich.read()\n",
        "            documentos.append(text)\n",
        "            \n",
        "print(documentos)"
      ]
    },
    {
      "cell_type": "markdown",
      "source": [
        "## Lectura de webs"
      ],
      "metadata": {
        "id": "EU-ty_wq4ArS"
      }
    },
    {
      "cell_type": "code",
      "source": [
        "!pip install beautifulsoup4"
      ],
      "metadata": {
        "colab": {
          "base_uri": "https://localhost:8080/"
        },
        "id": "TDeAHi6L4LkJ",
        "outputId": "d5b19387-0601-4cae-b3d3-82512299efc8"
      },
      "execution_count": 4,
      "outputs": [
        {
          "output_type": "stream",
          "name": "stdout",
          "text": [
            "Looking in indexes: https://pypi.org/simple, https://us-python.pkg.dev/colab-wheels/public/simple/\n",
            "Requirement already satisfied: beautifulsoup4 in /usr/local/lib/python3.9/dist-packages (4.9.3)\n",
            "Requirement already satisfied: soupsieve>1.2 in /usr/local/lib/python3.9/dist-packages (from beautifulsoup4) (2.4)\n"
          ]
        }
      ]
    },
    {
      "cell_type": "code",
      "source": [
        "import urllib.request\n",
        "\n",
        "from bs4 import BeautifulSoup\n",
        "\n",
        "paginaweb='https://agenciacolocacion.ayto-albacete.es'\n",
        "with urllib.request.urlopen(paginaweb) as response:\n",
        "   html = response.read().decode()\n",
        "\n",
        "soup = BeautifulSoup(html, features=\"html.parser\")\n",
        "\n",
        "for script in soup([\"script\", \"style\"]):\n",
        "    script.extract()\n",
        "\n",
        "    \n",
        "print(soup.get_text())"
      ],
      "metadata": {
        "id": "0AnuCeOc4ifD"
      },
      "execution_count": null,
      "outputs": []
    },
    {
      "cell_type": "markdown",
      "source": [
        "## Lectura CSV"
      ],
      "metadata": {
        "id": "rfmD4nch5AnR"
      }
    },
    {
      "cell_type": "code",
      "source": [
        "import pandas as pd\n",
        "df = pd.read_csv(\"https://archive.ics.uci.edu/ml/machine-learning-databases/iris/iris.data\",  header=None) \n",
        "df.head()"
      ],
      "metadata": {
        "colab": {
          "base_uri": "https://localhost:8080/",
          "height": 206
        },
        "id": "ZS5ApHw85DUi",
        "outputId": "e72b98c6-6cd8-48ce-ce67-25a5ec5b2356"
      },
      "execution_count": 6,
      "outputs": [
        {
          "output_type": "execute_result",
          "data": {
            "text/plain": [
              "     0    1    2    3            4\n",
              "0  5.1  3.5  1.4  0.2  Iris-setosa\n",
              "1  4.9  3.0  1.4  0.2  Iris-setosa\n",
              "2  4.7  3.2  1.3  0.2  Iris-setosa\n",
              "3  4.6  3.1  1.5  0.2  Iris-setosa\n",
              "4  5.0  3.6  1.4  0.2  Iris-setosa"
            ],
            "text/html": [
              "\n",
              "  <div id=\"df-19fa1ed9-45fd-4e13-b0c7-3c3476a30586\">\n",
              "    <div class=\"colab-df-container\">\n",
              "      <div>\n",
              "<style scoped>\n",
              "    .dataframe tbody tr th:only-of-type {\n",
              "        vertical-align: middle;\n",
              "    }\n",
              "\n",
              "    .dataframe tbody tr th {\n",
              "        vertical-align: top;\n",
              "    }\n",
              "\n",
              "    .dataframe thead th {\n",
              "        text-align: right;\n",
              "    }\n",
              "</style>\n",
              "<table border=\"1\" class=\"dataframe\">\n",
              "  <thead>\n",
              "    <tr style=\"text-align: right;\">\n",
              "      <th></th>\n",
              "      <th>0</th>\n",
              "      <th>1</th>\n",
              "      <th>2</th>\n",
              "      <th>3</th>\n",
              "      <th>4</th>\n",
              "    </tr>\n",
              "  </thead>\n",
              "  <tbody>\n",
              "    <tr>\n",
              "      <th>0</th>\n",
              "      <td>5.1</td>\n",
              "      <td>3.5</td>\n",
              "      <td>1.4</td>\n",
              "      <td>0.2</td>\n",
              "      <td>Iris-setosa</td>\n",
              "    </tr>\n",
              "    <tr>\n",
              "      <th>1</th>\n",
              "      <td>4.9</td>\n",
              "      <td>3.0</td>\n",
              "      <td>1.4</td>\n",
              "      <td>0.2</td>\n",
              "      <td>Iris-setosa</td>\n",
              "    </tr>\n",
              "    <tr>\n",
              "      <th>2</th>\n",
              "      <td>4.7</td>\n",
              "      <td>3.2</td>\n",
              "      <td>1.3</td>\n",
              "      <td>0.2</td>\n",
              "      <td>Iris-setosa</td>\n",
              "    </tr>\n",
              "    <tr>\n",
              "      <th>3</th>\n",
              "      <td>4.6</td>\n",
              "      <td>3.1</td>\n",
              "      <td>1.5</td>\n",
              "      <td>0.2</td>\n",
              "      <td>Iris-setosa</td>\n",
              "    </tr>\n",
              "    <tr>\n",
              "      <th>4</th>\n",
              "      <td>5.0</td>\n",
              "      <td>3.6</td>\n",
              "      <td>1.4</td>\n",
              "      <td>0.2</td>\n",
              "      <td>Iris-setosa</td>\n",
              "    </tr>\n",
              "  </tbody>\n",
              "</table>\n",
              "</div>\n",
              "      <button class=\"colab-df-convert\" onclick=\"convertToInteractive('df-19fa1ed9-45fd-4e13-b0c7-3c3476a30586')\"\n",
              "              title=\"Convert this dataframe to an interactive table.\"\n",
              "              style=\"display:none;\">\n",
              "        \n",
              "  <svg xmlns=\"http://www.w3.org/2000/svg\" height=\"24px\"viewBox=\"0 0 24 24\"\n",
              "       width=\"24px\">\n",
              "    <path d=\"M0 0h24v24H0V0z\" fill=\"none\"/>\n",
              "    <path d=\"M18.56 5.44l.94 2.06.94-2.06 2.06-.94-2.06-.94-.94-2.06-.94 2.06-2.06.94zm-11 1L8.5 8.5l.94-2.06 2.06-.94-2.06-.94L8.5 2.5l-.94 2.06-2.06.94zm10 10l.94 2.06.94-2.06 2.06-.94-2.06-.94-.94-2.06-.94 2.06-2.06.94z\"/><path d=\"M17.41 7.96l-1.37-1.37c-.4-.4-.92-.59-1.43-.59-.52 0-1.04.2-1.43.59L10.3 9.45l-7.72 7.72c-.78.78-.78 2.05 0 2.83L4 21.41c.39.39.9.59 1.41.59.51 0 1.02-.2 1.41-.59l7.78-7.78 2.81-2.81c.8-.78.8-2.07 0-2.86zM5.41 20L4 18.59l7.72-7.72 1.47 1.35L5.41 20z\"/>\n",
              "  </svg>\n",
              "      </button>\n",
              "      \n",
              "  <style>\n",
              "    .colab-df-container {\n",
              "      display:flex;\n",
              "      flex-wrap:wrap;\n",
              "      gap: 12px;\n",
              "    }\n",
              "\n",
              "    .colab-df-convert {\n",
              "      background-color: #E8F0FE;\n",
              "      border: none;\n",
              "      border-radius: 50%;\n",
              "      cursor: pointer;\n",
              "      display: none;\n",
              "      fill: #1967D2;\n",
              "      height: 32px;\n",
              "      padding: 0 0 0 0;\n",
              "      width: 32px;\n",
              "    }\n",
              "\n",
              "    .colab-df-convert:hover {\n",
              "      background-color: #E2EBFA;\n",
              "      box-shadow: 0px 1px 2px rgba(60, 64, 67, 0.3), 0px 1px 3px 1px rgba(60, 64, 67, 0.15);\n",
              "      fill: #174EA6;\n",
              "    }\n",
              "\n",
              "    [theme=dark] .colab-df-convert {\n",
              "      background-color: #3B4455;\n",
              "      fill: #D2E3FC;\n",
              "    }\n",
              "\n",
              "    [theme=dark] .colab-df-convert:hover {\n",
              "      background-color: #434B5C;\n",
              "      box-shadow: 0px 1px 3px 1px rgba(0, 0, 0, 0.15);\n",
              "      filter: drop-shadow(0px 1px 2px rgba(0, 0, 0, 0.3));\n",
              "      fill: #FFFFFF;\n",
              "    }\n",
              "  </style>\n",
              "\n",
              "      <script>\n",
              "        const buttonEl =\n",
              "          document.querySelector('#df-19fa1ed9-45fd-4e13-b0c7-3c3476a30586 button.colab-df-convert');\n",
              "        buttonEl.style.display =\n",
              "          google.colab.kernel.accessAllowed ? 'block' : 'none';\n",
              "\n",
              "        async function convertToInteractive(key) {\n",
              "          const element = document.querySelector('#df-19fa1ed9-45fd-4e13-b0c7-3c3476a30586');\n",
              "          const dataTable =\n",
              "            await google.colab.kernel.invokeFunction('convertToInteractive',\n",
              "                                                     [key], {});\n",
              "          if (!dataTable) return;\n",
              "\n",
              "          const docLinkHtml = 'Like what you see? Visit the ' +\n",
              "            '<a target=\"_blank\" href=https://colab.research.google.com/notebooks/data_table.ipynb>data table notebook</a>'\n",
              "            + ' to learn more about interactive tables.';\n",
              "          element.innerHTML = '';\n",
              "          dataTable['output_type'] = 'display_data';\n",
              "          await google.colab.output.renderOutput(dataTable, element);\n",
              "          const docLink = document.createElement('div');\n",
              "          docLink.innerHTML = docLinkHtml;\n",
              "          element.appendChild(docLink);\n",
              "        }\n",
              "      </script>\n",
              "    </div>\n",
              "  </div>\n",
              "  "
            ]
          },
          "metadata": {},
          "execution_count": 6
        }
      ]
    },
    {
      "cell_type": "code",
      "source": [
        "df = pd.read_csv(\"/content/Train.csv\", header=0, sep=',')\n",
        "vector = df.iloc[:2,0].values.tolist()\n",
        "print(vector)"
      ],
      "metadata": {
        "id": "eOAZwext5Iri"
      },
      "execution_count": null,
      "outputs": []
    },
    {
      "cell_type": "markdown",
      "source": [
        "# Leer con codificación utf-8 para que los acentos sean detectados."
      ],
      "metadata": {
        "id": "0x1Rz2eH1bCw"
      }
    },
    {
      "cell_type": "code",
      "source": [
        "with open('/content/prueba/ejemplo1.txt', 'r', encoding='utf-8') as fich:\n",
        "  text1 = fich.read()\n",
        "\n",
        "with open('/content/prueba/ejemplo2.txt', 'r', encoding='utf-8') as fich:\n",
        "  text2 = fich.read()"
      ],
      "metadata": {
        "id": "DbTDHcGz1gOq"
      },
      "execution_count": 18,
      "outputs": []
    },
    {
      "cell_type": "code",
      "source": [
        "print(text1)\n",
        "print(text2)"
      ],
      "metadata": {
        "colab": {
          "base_uri": "https://localhost:8080/"
        },
        "id": "BTTu3V9q7F_z",
        "outputId": "8c6f4fdd-a141-40e8-a010-9e713bed52a3"
      },
      "execution_count": 19,
      "outputs": [
        {
          "output_type": "stream",
          "name": "stdout",
          "text": [
            "Titulo\n",
            "\n",
            "Son 3 las muertes conocidas en el día de hoy\n",
            "\n",
            "Noticia\n",
            "\n",
            "Hacer balance de una pandemia es algo que ni los expertos se atreven todavía a \n",
            "hacer cuando los registros diarios siguen arrojando fallecidos por un virus que seguirá \n",
            "mucho tiempo entre nosotros aunque provoque menos daños. España atraviesa en estas semanas \n",
            "el final de la fase epidémica. \n",
            "\n",
            "Resumen\n",
            "\n",
            "Se ha confirmado el mejor registro de hospitalizados de la serie histórica: nunca antes \n",
            "habíamos tenido menos de 2.100 personas ingresadas por la infección desde que se registra la capacidad asistencial.\n",
            "\n",
            "\n",
            "\n",
            "Titulo\n",
            "\n",
            "Las noticias no son buenas en la Palma. \n",
            "\n",
            "Noticia\n",
            "\n",
            "Los acontecimientos que se han dado no han sido los esperados y desafortunadamente.\n",
            "Se han generado nuevas corrientes que no podrán ser abordadas. Desde el fin de semana\n",
            "se espera que no haya más objetivos.\n",
            "\n",
            "Resumen\n",
            "\n",
            "Los palmeros se encuentran en un estado lamentables. Seguiremos informando.\n",
            "\n",
            "\n",
            "\n"
          ]
        }
      ]
    },
    {
      "cell_type": "markdown",
      "source": [
        "# Detectar dónde empieza cada sección y guardar el contenido de cada sección por separado."
      ],
      "metadata": {
        "id": "afZCc7mD1glp"
      }
    },
    {
      "cell_type": "code",
      "source": [
        "text = ' '.join(documentos)\n",
        "text"
      ],
      "metadata": {
        "id": "pNwuP4nyilZb"
      },
      "execution_count": null,
      "outputs": []
    },
    {
      "cell_type": "code",
      "source": [
        "split_text = text.split(\"\\n\\n\")\n",
        "\n",
        "palabras_clave = [\"Titulo\", \"Noticia\", \"Resumen\"]\n",
        "secciones = [split_text[i+1] for i, s in enumerate(split_text) if any(p in s for p in palabras_clave)]\n",
        "\n",
        "print(secciones)"
      ],
      "metadata": {
        "id": "1UZ4Grkp1mDR",
        "colab": {
          "base_uri": "https://localhost:8080/"
        },
        "outputId": "f832012b-aa18-4716-9251-62eccb6cb109"
      },
      "execution_count": 34,
      "outputs": [
        {
          "output_type": "stream",
          "name": "stdout",
          "text": [
            "['Son 3 las muertes conocidas en el día de hoy', 'Hacer balance de una pandemia es algo que ni los expertos se atreven todavía a \\nhacer cuando los registros diarios siguen arrojando fallecidos por un virus que seguirá \\nmucho tiempo entre nosotros aunque provoque menos daños. España atraviesa en estas semanas \\nel final de la fase epidémica. ', 'Se ha confirmado el mejor registro de hospitalizados de la serie histórica: nunca antes \\nhabíamos tenido menos de 2.100 personas ingresadas por la infección desde que se registra la capacidad asistencial.', 'Las noticias no son buenas en la Palma. ', 'Los acontecimientos que se han dado no han sido los esperados y desafortunadamente.\\nSe han generado nuevas corrientes que no podrán ser abordadas. Desde el fin de semana\\nse espera que no haya más objetivos.', 'Los palmeros se encuentran en un estado lamentables. Seguiremos informando.']\n"
          ]
        }
      ]
    },
    {
      "cell_type": "markdown",
      "source": [
        "# Extraer los tokens de cada sección(ver word_tokenizer en fichero Tokenizador.py )"
      ],
      "metadata": {
        "id": "BMn3L4e21mRJ"
      }
    },
    {
      "cell_type": "code",
      "source": [
        "!pip install unidecode"
      ],
      "metadata": {
        "id": "WHNQUHmPsbgy"
      },
      "execution_count": null,
      "outputs": []
    },
    {
      "cell_type": "code",
      "source": [
        "import nltk\n",
        "import unidecode\n",
        "nltk.download(\"popular\")\n",
        "from nltk.tokenize import word_tokenize\n",
        "from nltk.corpus import stopwords"
      ],
      "metadata": {
        "id": "voqfCYIM9ARc"
      },
      "execution_count": null,
      "outputs": []
    },
    {
      "cell_type": "code",
      "source": [
        "secciones_procesadas = []\n",
        "for seccion in secciones:\n",
        "  seccion = seccion.replace('\\t', '').replace('\\r', '').replace(',', '').replace('.', '').strip()\n",
        "  secciones_procesadas.append(seccion)\n",
        "  "
      ],
      "metadata": {
        "id": "wN1AeXDD1uzJ"
      },
      "execution_count": 79,
      "outputs": []
    },
    {
      "cell_type": "code",
      "source": [
        "secciones_procesadas"
      ],
      "metadata": {
        "colab": {
          "base_uri": "https://localhost:8080/"
        },
        "id": "kB_Nn3e9lati",
        "outputId": "25f5470e-7357-4cba-d799-0026d2702fc9"
      },
      "execution_count": 80,
      "outputs": [
        {
          "output_type": "execute_result",
          "data": {
            "text/plain": [
              "['Son 3 las muertes conocidas en el día de hoy',\n",
              " 'Hacer balance de una pandemia es algo que ni los expertos se atreven todavía a \\nhacer cuando los registros diarios siguen arrojando fallecidos por un virus que seguirá \\nmucho tiempo entre nosotros aunque provoque menos daños España atraviesa en estas semanas \\nel final de la fase epidémica',\n",
              " 'Se ha confirmado el mejor registro de hospitalizados de la serie histórica: nunca antes \\nhabíamos tenido menos de 2100 personas ingresadas por la infección desde que se registra la capacidad asistencial',\n",
              " 'Las noticias no son buenas en la Palma',\n",
              " 'Los acontecimientos que se han dado no han sido los esperados y desafortunadamente\\nSe han generado nuevas corrientes que no podrán ser abordadas Desde el fin de semana\\nse espera que no haya más objetivos',\n",
              " 'Los palmeros se encuentran en un estado lamentables Seguiremos informando']"
            ]
          },
          "metadata": {},
          "execution_count": 80
        }
      ]
    },
    {
      "cell_type": "code",
      "source": [
        "tokens = []\n",
        "for seccion in secciones_procesadas:\n",
        "  tokens.append(word_tokenize(seccion, language='spanish'))"
      ],
      "metadata": {
        "id": "_CAQAJf7nVIi"
      },
      "execution_count": 81,
      "outputs": []
    },
    {
      "cell_type": "code",
      "source": [
        "tokens"
      ],
      "metadata": {
        "colab": {
          "base_uri": "https://localhost:8080/"
        },
        "id": "aUSGpR6BnsPy",
        "outputId": "dd0f0e0b-45fe-4608-d1b6-ed447865e387"
      },
      "execution_count": 82,
      "outputs": [
        {
          "output_type": "execute_result",
          "data": {
            "text/plain": [
              "[['Son', '3', 'las', 'muertes', 'conocidas', 'en', 'el', 'día', 'de', 'hoy'],\n",
              " ['Hacer',\n",
              "  'balance',\n",
              "  'de',\n",
              "  'una',\n",
              "  'pandemia',\n",
              "  'es',\n",
              "  'algo',\n",
              "  'que',\n",
              "  'ni',\n",
              "  'los',\n",
              "  'expertos',\n",
              "  'se',\n",
              "  'atreven',\n",
              "  'todavía',\n",
              "  'a',\n",
              "  'hacer',\n",
              "  'cuando',\n",
              "  'los',\n",
              "  'registros',\n",
              "  'diarios',\n",
              "  'siguen',\n",
              "  'arrojando',\n",
              "  'fallecidos',\n",
              "  'por',\n",
              "  'un',\n",
              "  'virus',\n",
              "  'que',\n",
              "  'seguirá',\n",
              "  'mucho',\n",
              "  'tiempo',\n",
              "  'entre',\n",
              "  'nosotros',\n",
              "  'aunque',\n",
              "  'provoque',\n",
              "  'menos',\n",
              "  'daños',\n",
              "  'España',\n",
              "  'atraviesa',\n",
              "  'en',\n",
              "  'estas',\n",
              "  'semanas',\n",
              "  'el',\n",
              "  'final',\n",
              "  'de',\n",
              "  'la',\n",
              "  'fase',\n",
              "  'epidémica'],\n",
              " ['Se',\n",
              "  'ha',\n",
              "  'confirmado',\n",
              "  'el',\n",
              "  'mejor',\n",
              "  'registro',\n",
              "  'de',\n",
              "  'hospitalizados',\n",
              "  'de',\n",
              "  'la',\n",
              "  'serie',\n",
              "  'histórica',\n",
              "  ':',\n",
              "  'nunca',\n",
              "  'antes',\n",
              "  'habíamos',\n",
              "  'tenido',\n",
              "  'menos',\n",
              "  'de',\n",
              "  '2100',\n",
              "  'personas',\n",
              "  'ingresadas',\n",
              "  'por',\n",
              "  'la',\n",
              "  'infección',\n",
              "  'desde',\n",
              "  'que',\n",
              "  'se',\n",
              "  'registra',\n",
              "  'la',\n",
              "  'capacidad',\n",
              "  'asistencial'],\n",
              " ['Las', 'noticias', 'no', 'son', 'buenas', 'en', 'la', 'Palma'],\n",
              " ['Los',\n",
              "  'acontecimientos',\n",
              "  'que',\n",
              "  'se',\n",
              "  'han',\n",
              "  'dado',\n",
              "  'no',\n",
              "  'han',\n",
              "  'sido',\n",
              "  'los',\n",
              "  'esperados',\n",
              "  'y',\n",
              "  'desafortunadamente',\n",
              "  'Se',\n",
              "  'han',\n",
              "  'generado',\n",
              "  'nuevas',\n",
              "  'corrientes',\n",
              "  'que',\n",
              "  'no',\n",
              "  'podrán',\n",
              "  'ser',\n",
              "  'abordadas',\n",
              "  'Desde',\n",
              "  'el',\n",
              "  'fin',\n",
              "  'de',\n",
              "  'semana',\n",
              "  'se',\n",
              "  'espera',\n",
              "  'que',\n",
              "  'no',\n",
              "  'haya',\n",
              "  'más',\n",
              "  'objetivos'],\n",
              " ['Los',\n",
              "  'palmeros',\n",
              "  'se',\n",
              "  'encuentran',\n",
              "  'en',\n",
              "  'un',\n",
              "  'estado',\n",
              "  'lamentables',\n",
              "  'Seguiremos',\n",
              "  'informando']]"
            ]
          },
          "metadata": {},
          "execution_count": 82
        }
      ]
    },
    {
      "cell_type": "markdown",
      "source": [
        "# Convertir a minúsculas (función lower() de str de python) o Eliminar los acentos (ver Preprocesamiento.py ) "
      ],
      "metadata": {
        "id": "FLuMGoiE1vIJ"
      }
    },
    {
      "cell_type": "code",
      "source": [
        "tokens_min = []\n",
        "for tokens_seccion in tokens:\n",
        "  tokens_min.append([unidecode.unidecode(token.lower()) for token in tokens_seccion])"
      ],
      "metadata": {
        "id": "_LAMN0Dz1zop"
      },
      "execution_count": 83,
      "outputs": []
    },
    {
      "cell_type": "code",
      "source": [
        "tokens_min"
      ],
      "metadata": {
        "colab": {
          "base_uri": "https://localhost:8080/"
        },
        "id": "MaiT_ZUAoNyp",
        "outputId": "94c52e16-4189-473a-a7a8-de7e1b84137a"
      },
      "execution_count": 84,
      "outputs": [
        {
          "output_type": "execute_result",
          "data": {
            "text/plain": [
              "[['son', '3', 'las', 'muertes', 'conocidas', 'en', 'el', 'dia', 'de', 'hoy'],\n",
              " ['hacer',\n",
              "  'balance',\n",
              "  'de',\n",
              "  'una',\n",
              "  'pandemia',\n",
              "  'es',\n",
              "  'algo',\n",
              "  'que',\n",
              "  'ni',\n",
              "  'los',\n",
              "  'expertos',\n",
              "  'se',\n",
              "  'atreven',\n",
              "  'todavia',\n",
              "  'a',\n",
              "  'hacer',\n",
              "  'cuando',\n",
              "  'los',\n",
              "  'registros',\n",
              "  'diarios',\n",
              "  'siguen',\n",
              "  'arrojando',\n",
              "  'fallecidos',\n",
              "  'por',\n",
              "  'un',\n",
              "  'virus',\n",
              "  'que',\n",
              "  'seguira',\n",
              "  'mucho',\n",
              "  'tiempo',\n",
              "  'entre',\n",
              "  'nosotros',\n",
              "  'aunque',\n",
              "  'provoque',\n",
              "  'menos',\n",
              "  'danos',\n",
              "  'espana',\n",
              "  'atraviesa',\n",
              "  'en',\n",
              "  'estas',\n",
              "  'semanas',\n",
              "  'el',\n",
              "  'final',\n",
              "  'de',\n",
              "  'la',\n",
              "  'fase',\n",
              "  'epidemica'],\n",
              " ['se',\n",
              "  'ha',\n",
              "  'confirmado',\n",
              "  'el',\n",
              "  'mejor',\n",
              "  'registro',\n",
              "  'de',\n",
              "  'hospitalizados',\n",
              "  'de',\n",
              "  'la',\n",
              "  'serie',\n",
              "  'historica',\n",
              "  ':',\n",
              "  'nunca',\n",
              "  'antes',\n",
              "  'habiamos',\n",
              "  'tenido',\n",
              "  'menos',\n",
              "  'de',\n",
              "  '2100',\n",
              "  'personas',\n",
              "  'ingresadas',\n",
              "  'por',\n",
              "  'la',\n",
              "  'infeccion',\n",
              "  'desde',\n",
              "  'que',\n",
              "  'se',\n",
              "  'registra',\n",
              "  'la',\n",
              "  'capacidad',\n",
              "  'asistencial'],\n",
              " ['las', 'noticias', 'no', 'son', 'buenas', 'en', 'la', 'palma'],\n",
              " ['los',\n",
              "  'acontecimientos',\n",
              "  'que',\n",
              "  'se',\n",
              "  'han',\n",
              "  'dado',\n",
              "  'no',\n",
              "  'han',\n",
              "  'sido',\n",
              "  'los',\n",
              "  'esperados',\n",
              "  'y',\n",
              "  'desafortunadamente',\n",
              "  'se',\n",
              "  'han',\n",
              "  'generado',\n",
              "  'nuevas',\n",
              "  'corrientes',\n",
              "  'que',\n",
              "  'no',\n",
              "  'podran',\n",
              "  'ser',\n",
              "  'abordadas',\n",
              "  'desde',\n",
              "  'el',\n",
              "  'fin',\n",
              "  'de',\n",
              "  'semana',\n",
              "  'se',\n",
              "  'espera',\n",
              "  'que',\n",
              "  'no',\n",
              "  'haya',\n",
              "  'mas',\n",
              "  'objetivos'],\n",
              " ['los',\n",
              "  'palmeros',\n",
              "  'se',\n",
              "  'encuentran',\n",
              "  'en',\n",
              "  'un',\n",
              "  'estado',\n",
              "  'lamentables',\n",
              "  'seguiremos',\n",
              "  'informando']]"
            ]
          },
          "metadata": {},
          "execution_count": 84
        }
      ]
    },
    {
      "cell_type": "markdown",
      "source": [
        "# Eliminar las stopwords(ver Preprocesamiento.py)"
      ],
      "metadata": {
        "id": "d6DrIc4L1z6J"
      }
    },
    {
      "cell_type": "code",
      "source": [
        "stopwords = set(stopwords.words(\"spanish\"))"
      ],
      "metadata": {
        "id": "0LDYH7R5r_eC"
      },
      "execution_count": 85,
      "outputs": []
    },
    {
      "cell_type": "code",
      "source": [
        "sin_palabras_vacias = []\n",
        "for tokens_seccion in tokens_min:\n",
        "  sin_palabras_vacias.append([w for w in tokens_seccion if not w in stopwords])"
      ],
      "metadata": {
        "id": "ePxM48ek133A"
      },
      "execution_count": 87,
      "outputs": []
    },
    {
      "cell_type": "code",
      "source": [
        "sin_palabras_vacias"
      ],
      "metadata": {
        "colab": {
          "base_uri": "https://localhost:8080/"
        },
        "id": "jb54XadctyQZ",
        "outputId": "4a379c00-83b7-4473-d8ef-9a4f85c0132b"
      },
      "execution_count": 88,
      "outputs": [
        {
          "output_type": "execute_result",
          "data": {
            "text/plain": [
              "[['3', 'muertes', 'conocidas', 'dia', 'hoy'],\n",
              " ['hacer',\n",
              "  'balance',\n",
              "  'pandemia',\n",
              "  'expertos',\n",
              "  'atreven',\n",
              "  'todavia',\n",
              "  'hacer',\n",
              "  'registros',\n",
              "  'diarios',\n",
              "  'siguen',\n",
              "  'arrojando',\n",
              "  'fallecidos',\n",
              "  'virus',\n",
              "  'seguira',\n",
              "  'tiempo',\n",
              "  'aunque',\n",
              "  'provoque',\n",
              "  'menos',\n",
              "  'danos',\n",
              "  'espana',\n",
              "  'atraviesa',\n",
              "  'semanas',\n",
              "  'final',\n",
              "  'fase',\n",
              "  'epidemica'],\n",
              " ['confirmado',\n",
              "  'mejor',\n",
              "  'registro',\n",
              "  'hospitalizados',\n",
              "  'serie',\n",
              "  'historica',\n",
              "  ':',\n",
              "  'nunca',\n",
              "  'habiamos',\n",
              "  'menos',\n",
              "  '2100',\n",
              "  'personas',\n",
              "  'ingresadas',\n",
              "  'infeccion',\n",
              "  'registra',\n",
              "  'capacidad',\n",
              "  'asistencial'],\n",
              " ['noticias', 'buenas', 'palma'],\n",
              " ['acontecimientos',\n",
              "  'dado',\n",
              "  'sido',\n",
              "  'esperados',\n",
              "  'desafortunadamente',\n",
              "  'generado',\n",
              "  'nuevas',\n",
              "  'corrientes',\n",
              "  'podran',\n",
              "  'ser',\n",
              "  'abordadas',\n",
              "  'fin',\n",
              "  'semana',\n",
              "  'espera',\n",
              "  'mas',\n",
              "  'objetivos'],\n",
              " ['palmeros', 'encuentran', 'lamentables', 'seguiremos', 'informando']]"
            ]
          },
          "metadata": {},
          "execution_count": 88
        }
      ]
    },
    {
      "cell_type": "markdown",
      "source": [
        "# Extraer los POS tags (ver POS_tagging.py)"
      ],
      "metadata": {
        "id": "vT2DvYeU16e6"
      }
    },
    {
      "cell_type": "code",
      "source": [
        "pos_tagging = []\n",
        "for tokens_seccion in sin_palabras_vacias:\n",
        "  pos_tagging.append(nltk.pos_tag(tokens_seccion))\n"
      ],
      "metadata": {
        "id": "FNkcS26K1744"
      },
      "execution_count": 89,
      "outputs": []
    },
    {
      "cell_type": "code",
      "source": [
        "pos_tagging"
      ],
      "metadata": {
        "colab": {
          "base_uri": "https://localhost:8080/"
        },
        "id": "hFeP2ZmZuSZJ",
        "outputId": "833b7743-b02b-4bea-f46c-352556e29f63"
      },
      "execution_count": 90,
      "outputs": [
        {
          "output_type": "execute_result",
          "data": {
            "text/plain": [
              "[[('3', 'CD'),\n",
              "  ('muertes', 'NNS'),\n",
              "  ('conocidas', 'JJ'),\n",
              "  ('dia', 'NN'),\n",
              "  ('hoy', 'NN')],\n",
              " [('hacer', 'NN'),\n",
              "  ('balance', 'NN'),\n",
              "  ('pandemia', 'NN'),\n",
              "  ('expertos', 'VBD'),\n",
              "  ('atreven', 'RB'),\n",
              "  ('todavia', 'JJ'),\n",
              "  ('hacer', 'NN'),\n",
              "  ('registros', 'NNS'),\n",
              "  ('diarios', 'VBP'),\n",
              "  ('siguen', 'JJ'),\n",
              "  ('arrojando', 'NN'),\n",
              "  ('fallecidos', 'NN'),\n",
              "  ('virus', 'NN'),\n",
              "  ('seguira', 'NN'),\n",
              "  ('tiempo', 'NN'),\n",
              "  ('aunque', 'NN'),\n",
              "  ('provoque', 'NN'),\n",
              "  ('menos', 'NNS'),\n",
              "  ('danos', 'VBP'),\n",
              "  ('espana', 'JJ'),\n",
              "  ('atraviesa', 'NN'),\n",
              "  ('semanas', 'VBD'),\n",
              "  ('final', 'JJ'),\n",
              "  ('fase', 'NN'),\n",
              "  ('epidemica', 'NN')],\n",
              " [('confirmado', 'NN'),\n",
              "  ('mejor', 'NN'),\n",
              "  ('registro', 'NN'),\n",
              "  ('hospitalizados', 'NN'),\n",
              "  ('serie', 'NN'),\n",
              "  ('historica', 'NN'),\n",
              "  (':', ':'),\n",
              "  ('nunca', 'JJ'),\n",
              "  ('habiamos', 'NNS'),\n",
              "  ('menos', 'JJ'),\n",
              "  ('2100', 'CD'),\n",
              "  ('personas', 'NN'),\n",
              "  ('ingresadas', 'JJ'),\n",
              "  ('infeccion', 'NN'),\n",
              "  ('registra', 'NN'),\n",
              "  ('capacidad', 'NN'),\n",
              "  ('asistencial', 'NN')],\n",
              " [('noticias', 'JJ'), ('buenas', 'NNS'), ('palma', 'NN')],\n",
              " [('acontecimientos', 'NNS'),\n",
              "  ('dado', 'VBP'),\n",
              "  ('sido', 'JJ'),\n",
              "  ('esperados', 'NN'),\n",
              "  ('desafortunadamente', 'NN'),\n",
              "  ('generado', 'NN'),\n",
              "  ('nuevas', 'NN'),\n",
              "  ('corrientes', 'VBZ'),\n",
              "  ('podran', 'IN'),\n",
              "  ('ser', 'NN'),\n",
              "  ('abordadas', 'NNS'),\n",
              "  ('fin', 'VBP'),\n",
              "  ('semana', 'JJ'),\n",
              "  ('espera', 'NN'),\n",
              "  ('mas', 'NN'),\n",
              "  ('objetivos', 'NN')],\n",
              " [('palmeros', 'NNS'),\n",
              "  ('encuentran', 'VBP'),\n",
              "  ('lamentables', 'NNS'),\n",
              "  ('seguiremos', 'NNS'),\n",
              "  ('informando', 'VBP')]]"
            ]
          },
          "metadata": {},
          "execution_count": 90
        }
      ]
    },
    {
      "cell_type": "markdown",
      "source": [
        "# Eliminar las palabras que no sean nombres."
      ],
      "metadata": {
        "id": "PYgXH-iL18Kh"
      }
    },
    {
      "cell_type": "code",
      "source": [
        "names = []\n",
        "for tokens_seccion in pos_tagging:\n",
        "  names.append([token[0] for token in tokens_seccion if token[1].startswith('NC')])"
      ],
      "metadata": {
        "id": "qVKKSZpO2BUw"
      },
      "execution_count": 97,
      "outputs": []
    },
    {
      "cell_type": "code",
      "source": [
        "names"
      ],
      "metadata": {
        "colab": {
          "base_uri": "https://localhost:8080/"
        },
        "id": "q4FXjQ5nuzFx",
        "outputId": "75af4aa0-1776-4306-e8f6-7bac9853195a"
      },
      "execution_count": 98,
      "outputs": [
        {
          "output_type": "execute_result",
          "data": {
            "text/plain": [
              "[[], [], [], [], [], []]"
            ]
          },
          "metadata": {},
          "execution_count": 98
        }
      ]
    }
  ]
}